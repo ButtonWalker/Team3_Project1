{
 "cells": [
  {
   "cell_type": "code",
   "execution_count": 1,
   "metadata": {},
   "outputs": [],
   "source": [
    "#Add Dependencies\n",
    "\n",
    "import matplotlib.pyplot as plt\n",
    "import pandas as pd\n",
    "import numpy as np\n",
    "import requests\n",
    "import time\n",
    "import pprint\n",
    "from citipy import citipy\n",
    "import gmaps\n",
    "import gmaps.datasets\n",
    "import scipy.stats as stats\n",
    "from datetime import datetime\n",
    "#import folium"
   ]
  },
  {
   "cell_type": "markdown",
   "metadata": {},
   "source": [
    "## Importing CSV Data\n",
    "\n"
   ]
  },
  {
   "cell_type": "code",
   "execution_count": 40,
   "metadata": {
    "lines_to_next_cell": 2,
    "scrolled": true
   },
   "outputs": [
    {
     "name": "stderr",
     "output_type": "stream",
     "text": [
      "C:\\Users\\kapali_s\\Anaconda3\\lib\\site-packages\\IPython\\core\\interactiveshell.py:3020: DtypeWarning: Columns (0) have mixed types. Specify dtype option on import or set low_memory=False.\n",
      "  interactivity=interactivity, compiler=compiler, result=result)\n"
     ]
    }
   ],
   "source": [
    "#Import citation data from csv\n",
    "citation_raw = pd.read_csv(\"Parking_Citations.csv\")\n",
    "citation_df = citation_raw"
   ]
  },
  {
   "cell_type": "code",
   "execution_count": 39,
   "metadata": {
    "scrolled": false
   },
   "outputs": [],
   "source": [
    "#Name of columns \n",
    "#citation_df.columns.tolist()"
   ]
  },
  {
   "cell_type": "markdown",
   "metadata": {},
   "source": [
    "## Cleaning Columns from Dataset"
   ]
  },
  {
   "cell_type": "code",
   "execution_count": 4,
   "metadata": {},
   "outputs": [
    {
     "data": {
      "text/html": [
       "<div>\n",
       "<style scoped>\n",
       "    .dataframe tbody tr th:only-of-type {\n",
       "        vertical-align: middle;\n",
       "    }\n",
       "\n",
       "    .dataframe tbody tr th {\n",
       "        vertical-align: top;\n",
       "    }\n",
       "\n",
       "    .dataframe thead th {\n",
       "        text-align: right;\n",
       "    }\n",
       "</style>\n",
       "<table border=\"1\" class=\"dataframe\">\n",
       "  <thead>\n",
       "    <tr style=\"text-align: right;\">\n",
       "      <th></th>\n",
       "      <th>Ticket number</th>\n",
       "      <th>Issue Date</th>\n",
       "      <th>Issue time</th>\n",
       "      <th>Make</th>\n",
       "      <th>Color</th>\n",
       "      <th>Latitude</th>\n",
       "      <th>Longitude</th>\n",
       "    </tr>\n",
       "  </thead>\n",
       "  <tbody>\n",
       "    <tr>\n",
       "      <th>0</th>\n",
       "      <td>1114684152</td>\n",
       "      <td>5/1/2018</td>\n",
       "      <td>1310.0</td>\n",
       "      <td>GMC</td>\n",
       "      <td>BK</td>\n",
       "      <td>6468879.186</td>\n",
       "      <td>1841441.836</td>\n",
       "    </tr>\n",
       "    <tr>\n",
       "      <th>39</th>\n",
       "      <td>1121020504</td>\n",
       "      <td>5/1/2018</td>\n",
       "      <td>1100.0</td>\n",
       "      <td>CHEV</td>\n",
       "      <td>SI</td>\n",
       "      <td>6487917.292</td>\n",
       "      <td>1830966.052</td>\n",
       "    </tr>\n",
       "    <tr>\n",
       "      <th>41</th>\n",
       "      <td>1116268053</td>\n",
       "      <td>5/1/2018</td>\n",
       "      <td>1211.0</td>\n",
       "      <td>SUBA</td>\n",
       "      <td>RE</td>\n",
       "      <td>6443160.675</td>\n",
       "      <td>1921957.696</td>\n",
       "    </tr>\n",
       "    <tr>\n",
       "      <th>45</th>\n",
       "      <td>1117163961</td>\n",
       "      <td>5/1/2018</td>\n",
       "      <td>1045.0</td>\n",
       "      <td>TOYO</td>\n",
       "      <td>BK</td>\n",
       "      <td>6401115.821</td>\n",
       "      <td>1887444.261</td>\n",
       "    </tr>\n",
       "    <tr>\n",
       "      <th>46</th>\n",
       "      <td>1117163950</td>\n",
       "      <td>5/1/2018</td>\n",
       "      <td>2135.0</td>\n",
       "      <td>TOYO</td>\n",
       "      <td>GY</td>\n",
       "      <td>6397793.249</td>\n",
       "      <td>1886756.686</td>\n",
       "    </tr>\n",
       "  </tbody>\n",
       "</table>\n",
       "</div>"
      ],
      "text/plain": [
       "   Ticket number Issue Date  Issue time  Make Color     Latitude    Longitude\n",
       "0     1114684152   5/1/2018      1310.0   GMC    BK  6468879.186  1841441.836\n",
       "39    1121020504   5/1/2018      1100.0  CHEV    SI  6487917.292  1830966.052\n",
       "41    1116268053   5/1/2018      1211.0  SUBA    RE  6443160.675  1921957.696\n",
       "45    1117163961   5/1/2018      1045.0  TOYO    BK  6401115.821  1887444.261\n",
       "46    1117163950   5/1/2018      2135.0  TOYO    GY  6397793.249  1886756.686"
      ]
     },
     "execution_count": 4,
     "metadata": {},
     "output_type": "execute_result"
    }
   ],
   "source": [
    "#Drop columns that are not needed\n",
    "citation_df1 = citation_df.drop([\"Meter Id\",\"Marked Time\",\"RP State Plate\",\"Plate Expiry Date\",\"VIN\",\"Location\",\"Route\",\"Agency\",\"Violation code\",\"Body Style\", \"Violation Description\", \"Fine amount\"], axis = 1)\n",
    "citation_df1.head()\n",
    "\n",
    "#Drop Lat and Lon = 99999\n",
    "citation_df2 = citation_df1[(citation_df1[\"Latitude\"] !=99999.000) & (citation_df1[\"Longitude\"] !=99999.000)]\n",
    "citation_df2.head()\n"
   ]
  },
  {
   "cell_type": "code",
   "execution_count": 5,
   "metadata": {
    "scrolled": false
   },
   "outputs": [
    {
     "data": {
      "text/plain": [
       "Ticket number    419378\n",
       "Issue Date       419378\n",
       "Issue time       419303\n",
       "Make             419187\n",
       "Color            419316\n",
       "Latitude         419377\n",
       "Longitude        419377\n",
       "dtype: int64"
      ]
     },
     "execution_count": 5,
     "metadata": {},
     "output_type": "execute_result"
    }
   ],
   "source": [
    "citation_df2.count()"
   ]
  },
  {
   "cell_type": "code",
   "execution_count": 6,
   "metadata": {
    "lines_to_next_cell": 2
   },
   "outputs": [
    {
     "data": {
      "text/html": [
       "<div>\n",
       "<style scoped>\n",
       "    .dataframe tbody tr th:only-of-type {\n",
       "        vertical-align: middle;\n",
       "    }\n",
       "\n",
       "    .dataframe tbody tr th {\n",
       "        vertical-align: top;\n",
       "    }\n",
       "\n",
       "    .dataframe thead th {\n",
       "        text-align: right;\n",
       "    }\n",
       "</style>\n",
       "<table border=\"1\" class=\"dataframe\">\n",
       "  <thead>\n",
       "    <tr style=\"text-align: right;\">\n",
       "      <th></th>\n",
       "      <th>Ticket number</th>\n",
       "      <th>Issue Date</th>\n",
       "      <th>Issue time</th>\n",
       "      <th>Make</th>\n",
       "      <th>Color</th>\n",
       "      <th>Latitude</th>\n",
       "      <th>Longitude</th>\n",
       "    </tr>\n",
       "  </thead>\n",
       "  <tbody>\n",
       "    <tr>\n",
       "      <th>0</th>\n",
       "      <td>1114684152</td>\n",
       "      <td>5/1/2018</td>\n",
       "      <td>1310.0</td>\n",
       "      <td>GMC</td>\n",
       "      <td>BK</td>\n",
       "      <td>6468879.186</td>\n",
       "      <td>1841441.836</td>\n",
       "    </tr>\n",
       "    <tr>\n",
       "      <th>39</th>\n",
       "      <td>1121020504</td>\n",
       "      <td>5/1/2018</td>\n",
       "      <td>1100.0</td>\n",
       "      <td>CHEV</td>\n",
       "      <td>SI</td>\n",
       "      <td>6487917.292</td>\n",
       "      <td>1830966.052</td>\n",
       "    </tr>\n",
       "    <tr>\n",
       "      <th>41</th>\n",
       "      <td>1116268053</td>\n",
       "      <td>5/1/2018</td>\n",
       "      <td>1211.0</td>\n",
       "      <td>SUBA</td>\n",
       "      <td>RE</td>\n",
       "      <td>6443160.675</td>\n",
       "      <td>1921957.696</td>\n",
       "    </tr>\n",
       "    <tr>\n",
       "      <th>45</th>\n",
       "      <td>1117163961</td>\n",
       "      <td>5/1/2018</td>\n",
       "      <td>1045.0</td>\n",
       "      <td>TOYO</td>\n",
       "      <td>BK</td>\n",
       "      <td>6401115.821</td>\n",
       "      <td>1887444.261</td>\n",
       "    </tr>\n",
       "    <tr>\n",
       "      <th>46</th>\n",
       "      <td>1117163950</td>\n",
       "      <td>5/1/2018</td>\n",
       "      <td>2135.0</td>\n",
       "      <td>TOYO</td>\n",
       "      <td>GY</td>\n",
       "      <td>6397793.249</td>\n",
       "      <td>1886756.686</td>\n",
       "    </tr>\n",
       "  </tbody>\n",
       "</table>\n",
       "</div>"
      ],
      "text/plain": [
       "   Ticket number Issue Date  Issue time  Make Color     Latitude    Longitude\n",
       "0     1114684152   5/1/2018      1310.0   GMC    BK  6468879.186  1841441.836\n",
       "39    1121020504   5/1/2018      1100.0  CHEV    SI  6487917.292  1830966.052\n",
       "41    1116268053   5/1/2018      1211.0  SUBA    RE  6443160.675  1921957.696\n",
       "45    1117163961   5/1/2018      1045.0  TOYO    BK  6401115.821  1887444.261\n",
       "46    1117163950   5/1/2018      2135.0  TOYO    GY  6397793.249  1886756.686"
      ]
     },
     "execution_count": 6,
     "metadata": {},
     "output_type": "execute_result"
    }
   ],
   "source": [
    "#Take all rows where column values are not equal to zero\n",
    "citation_df3 = citation_df2[(citation_df2[[\"Ticket number\", \"Issue Date\",\"Issue time\",\"Make\",\"Color\",\"Latitude\",\"Longitude\",]] != 0)]\n",
    "citation_df3.head()"
   ]
  },
  {
   "cell_type": "code",
   "execution_count": 7,
   "metadata": {
    "lines_to_next_cell": 2
   },
   "outputs": [],
   "source": [
    "#Drop all rows with blank cells\n",
    "citation_df4 = citation_df3.fillna(\"\")"
   ]
  },
  {
   "cell_type": "code",
   "execution_count": 38,
   "metadata": {},
   "outputs": [],
   "source": [
    "#citation_df4.count()"
   ]
  },
  {
   "cell_type": "code",
   "execution_count": 9,
   "metadata": {},
   "outputs": [],
   "source": [
    "citation_df4[\"Make\"].replace(\"\", np.nan, inplace=True)\n",
    "citation_df4.dropna(subset = [\"Make\"], inplace = True)"
   ]
  },
  {
   "cell_type": "code",
   "execution_count": 37,
   "metadata": {
    "lines_to_next_cell": 2,
    "scrolled": true
   },
   "outputs": [],
   "source": [
    "#Sort values by make of car\n",
    "#citation_df4.sort_values([\"Make\"],ascending=True)"
   ]
  },
  {
   "cell_type": "code",
   "execution_count": 14,
   "metadata": {},
   "outputs": [],
   "source": [
    "Sample_data = citation_df4.sample(frac=0.10, random_state = 1 )"
   ]
  },
  {
   "cell_type": "code",
   "execution_count": 15,
   "metadata": {},
   "outputs": [
    {
     "data": {
      "text/html": [
       "<div>\n",
       "<style scoped>\n",
       "    .dataframe tbody tr th:only-of-type {\n",
       "        vertical-align: middle;\n",
       "    }\n",
       "\n",
       "    .dataframe tbody tr th {\n",
       "        vertical-align: top;\n",
       "    }\n",
       "\n",
       "    .dataframe thead th {\n",
       "        text-align: right;\n",
       "    }\n",
       "</style>\n",
       "<table border=\"1\" class=\"dataframe\">\n",
       "  <thead>\n",
       "    <tr style=\"text-align: right;\">\n",
       "      <th></th>\n",
       "      <th>Ticket number</th>\n",
       "      <th>Issue Date</th>\n",
       "      <th>Issue time</th>\n",
       "      <th>Make</th>\n",
       "      <th>Color</th>\n",
       "      <th>Latitude</th>\n",
       "      <th>Longitude</th>\n",
       "    </tr>\n",
       "  </thead>\n",
       "  <tbody>\n",
       "    <tr>\n",
       "      <th>411923</th>\n",
       "      <td>4336360221</td>\n",
       "      <td>7/13/2018</td>\n",
       "      <td>2332</td>\n",
       "      <td>TOYT</td>\n",
       "      <td>BL</td>\n",
       "      <td>6.42472e+06</td>\n",
       "      <td>1.80822e+06</td>\n",
       "    </tr>\n",
       "    <tr>\n",
       "      <th>143651</th>\n",
       "      <td>4332707271</td>\n",
       "      <td>5/24/2018</td>\n",
       "      <td>2204</td>\n",
       "      <td>SUBA</td>\n",
       "      <td>WT</td>\n",
       "      <td>6.46008e+06</td>\n",
       "      <td>1.85883e+06</td>\n",
       "    </tr>\n",
       "    <tr>\n",
       "      <th>275230</th>\n",
       "      <td>4334502561</td>\n",
       "      <td>6/18/2018</td>\n",
       "      <td>1209</td>\n",
       "      <td>BMW</td>\n",
       "      <td>WT</td>\n",
       "      <td>6.37875e+06</td>\n",
       "      <td>1.8836e+06</td>\n",
       "    </tr>\n",
       "    <tr>\n",
       "      <th>272531</th>\n",
       "      <td>4333701352</td>\n",
       "      <td>6/17/2018</td>\n",
       "      <td>2125</td>\n",
       "      <td>HOND</td>\n",
       "      <td>BK</td>\n",
       "      <td>6.45809e+06</td>\n",
       "      <td>1.85907e+06</td>\n",
       "    </tr>\n",
       "    <tr>\n",
       "      <th>140789</th>\n",
       "      <td>4333176363</td>\n",
       "      <td>5/24/2018</td>\n",
       "      <td>1646</td>\n",
       "      <td>OTHR</td>\n",
       "      <td>BN</td>\n",
       "      <td>6.48442e+06</td>\n",
       "      <td>1.83663e+06</td>\n",
       "    </tr>\n",
       "  </tbody>\n",
       "</table>\n",
       "</div>"
      ],
      "text/plain": [
       "       Ticket number Issue Date Issue time  Make Color     Latitude  \\\n",
       "411923    4336360221  7/13/2018       2332  TOYT    BL  6.42472e+06   \n",
       "143651    4332707271  5/24/2018       2204  SUBA    WT  6.46008e+06   \n",
       "275230    4334502561  6/18/2018       1209   BMW    WT  6.37875e+06   \n",
       "272531    4333701352  6/17/2018       2125  HOND    BK  6.45809e+06   \n",
       "140789    4333176363  5/24/2018       1646  OTHR    BN  6.48442e+06   \n",
       "\n",
       "          Longitude  \n",
       "411923  1.80822e+06  \n",
       "143651  1.85883e+06  \n",
       "275230   1.8836e+06  \n",
       "272531  1.85907e+06  \n",
       "140789  1.83663e+06  "
      ]
     },
     "execution_count": 15,
     "metadata": {},
     "output_type": "execute_result"
    }
   ],
   "source": [
    "Sample_data.head()"
   ]
  },
  {
   "cell_type": "code",
   "execution_count": 36,
   "metadata": {
    "lines_to_next_cell": 2
   },
   "outputs": [],
   "source": [
    "#Replace duplicates for all makes in top 30\n",
    "citation_df4[\"Make\"] = citation_df4[\"Make\"].replace({'TOYT': 'TOYOTA', 'TOYO': 'TOYOTA'})\n",
    "citation_df5 = citation_df4[\"Make\"].value_counts()\n",
    "citation_df6 = citation_df5.rename_axis('Make').reset_index(name='counts')\n",
    "citation_df7 = citation_df6.head(25)"
   ]
  },
  {
   "cell_type": "code",
   "execution_count": 18,
   "metadata": {},
   "outputs": [
    {
     "data": {
      "image/png": "[encoded data removed]",
      "text/plain": [
       "<Figure size 432x288 with 1 Axes>"
      ]
     },
     "metadata": {
      "needs_background": "light"
     },
     "output_type": "display_data"
    }
   ],
   "source": [
    "#Bar plot for top 25 make of vehicles that got citations\n",
    "x_axis=np.arange(len(citation_df7[\"Make\"]))\n",
    "plt.bar(x_axis,citation_df7[\"counts\"] )\n",
    "plt.xlabel('Make', fontsize=5)\n",
    "plt.ylabel('counts', fontsize=5)\n",
    "plt.xticks(x_axis, citation_df6[\"Make\"], fontsize=5, rotation=30)\n",
    "plt.title('Top 20 citations by Make of cars')\n",
    "plt.show()"
   ]
  },
  {
   "cell_type": "code",
   "execution_count": 35,
   "metadata": {
    "lines_to_next_cell": 2,
    "scrolled": true
   },
   "outputs": [],
   "source": [
    "#Replace duplicates for all makes in top 30\n",
    "citation_df8 = citation_df4[\"Color\"].value_counts()\n",
    "citation_df9 = citation_df8.rename_axis('Color').reset_index(name='Counts')\n",
    "citation_df10 = citation_df9.head(25)"
   ]
  },
  {
   "cell_type": "code",
   "execution_count": 20,
   "metadata": {
    "scrolled": true
   },
   "outputs": [
    {
     "data": {
      "image/png": "[encoded data removed]",
      "text/plain": [
       "<Figure size 432x288 with 1 Axes>"
      ]
     },
     "metadata": {
      "needs_background": "light"
     },
     "output_type": "display_data"
    }
   ],
   "source": [
    "#Bar plot for top 25 Color of vehicles that got citations\n",
    "x_axis=np.arange(len(citation_df10[\"Color\"]))\n",
    "plt.bar(x_axis,citation_df10[\"Counts\"] )\n",
    "plt.xlabel('Color', fontsize=5)\n",
    "plt.ylabel('Counts', fontsize=5)\n",
    "plt.xticks(x_axis, citation_df10[\"Color\"], fontsize=5, rotation=30)\n",
    "plt.title('Top 25 citations by color of cars')\n",
    "plt.show()"
   ]
  },
  {
   "cell_type": "code",
   "execution_count": null,
   "metadata": {},
   "outputs": [],
   "source": []
  },
  {
   "cell_type": "code",
   "execution_count": 60,
   "metadata": {},
   "outputs": [
    {
     "data": {
      "text/html": [
       "<div>\n",
       "<style scoped>\n",
       "    .dataframe tbody tr th:only-of-type {\n",
       "        vertical-align: middle;\n",
       "    }\n",
       "\n",
       "    .dataframe tbody tr th {\n",
       "        vertical-align: top;\n",
       "    }\n",
       "\n",
       "    .dataframe thead th {\n",
       "        text-align: right;\n",
       "    }\n",
       "</style>\n",
       "<table border=\"1\" class=\"dataframe\">\n",
       "  <thead>\n",
       "    <tr style=\"text-align: right;\">\n",
       "      <th></th>\n",
       "      <th>Ticket number</th>\n",
       "      <th>Issue Date</th>\n",
       "      <th>Issue time</th>\n",
       "      <th>Make</th>\n",
       "      <th>Color</th>\n",
       "      <th>Latitude</th>\n",
       "      <th>Longitude</th>\n",
       "    </tr>\n",
       "  </thead>\n",
       "  <tbody>\n",
       "    <tr>\n",
       "      <th>275230</th>\n",
       "      <td>4334502561</td>\n",
       "      <td>6/18/2018</td>\n",
       "      <td>1209</td>\n",
       "      <td>BMW</td>\n",
       "      <td>WT</td>\n",
       "      <td>6.37875e+06</td>\n",
       "      <td>1.8836e+06</td>\n",
       "    </tr>\n",
       "    <tr>\n",
       "      <th>123283</th>\n",
       "      <td>4333349086</td>\n",
       "      <td>5/22/2018</td>\n",
       "      <td>257</td>\n",
       "      <td>BMW</td>\n",
       "      <td>BK</td>\n",
       "      <td>6.45597e+06</td>\n",
       "      <td>1.82743e+06</td>\n",
       "    </tr>\n",
       "    <tr>\n",
       "      <th>141528</th>\n",
       "      <td>4333111554</td>\n",
       "      <td>5/24/2018</td>\n",
       "      <td>1119</td>\n",
       "      <td>FORD</td>\n",
       "      <td>WT</td>\n",
       "      <td>6.44513e+06</td>\n",
       "      <td>1.84288e+06</td>\n",
       "    </tr>\n",
       "    <tr>\n",
       "      <th>461871</th>\n",
       "      <td>4334551745</td>\n",
       "      <td>7/23/2018</td>\n",
       "      <td>1008</td>\n",
       "      <td>BMW</td>\n",
       "      <td>BK</td>\n",
       "      <td>6.45501e+06</td>\n",
       "      <td>1.85367e+06</td>\n",
       "    </tr>\n",
       "    <tr>\n",
       "      <th>325517</th>\n",
       "      <td>4334289783</td>\n",
       "      <td>6/26/2018</td>\n",
       "      <td>1219</td>\n",
       "      <td>FORD</td>\n",
       "      <td>WT</td>\n",
       "      <td>6.45788e+06</td>\n",
       "      <td>1.85907e+06</td>\n",
       "    </tr>\n",
       "  </tbody>\n",
       "</table>\n",
       "</div>"
      ],
      "text/plain": [
       "       Ticket number Issue Date Issue time  Make Color     Latitude  \\\n",
       "275230    4334502561  6/18/2018       1209   BMW    WT  6.37875e+06   \n",
       "123283    4333349086  5/22/2018        257   BMW    BK  6.45597e+06   \n",
       "141528    4333111554  5/24/2018       1119  FORD    WT  6.44513e+06   \n",
       "461871    4334551745  7/23/2018       1008   BMW    BK  6.45501e+06   \n",
       "325517    4334289783  6/26/2018       1219  FORD    WT  6.45788e+06   \n",
       "\n",
       "          Longitude  \n",
       "275230   1.8836e+06  \n",
       "123283  1.82743e+06  \n",
       "141528  1.84288e+06  \n",
       "461871  1.85367e+06  \n",
       "325517  1.85907e+06  "
      ]
     },
     "execution_count": 60,
     "metadata": {},
     "output_type": "execute_result"
    }
   ],
   "source": [
    "# Sampling the models of four cars \n",
    "df1 = Sample_data[Sample_data.Make.isin([\"BMW\",\"FORD\",\"VOLK\",\"DODG\"])]\n",
    "df1.head()"
   ]
  },
  {
   "cell_type": "code",
   "execution_count": 45,
   "metadata": {},
   "outputs": [],
   "source": [
    "# Group by make of the cars\n",
    "df2 = df1.groupby(\"Make\").Make.count()"
   ]
  },
  {
   "cell_type": "code",
   "execution_count": 46,
   "metadata": {},
   "outputs": [],
   "source": [
    "Sample_data_large = citation_df4.sample(frac=0.50, random_state = 1 )"
   ]
  },
  {
   "cell_type": "code",
   "execution_count": 47,
   "metadata": {},
   "outputs": [
    {
     "name": "stdout",
     "output_type": "stream",
     "text": [
      "<class 'pandas.core.frame.DataFrame'>\n",
      "Int64Index: 39837 entries, 275230 to 411751\n",
      "Data columns (total 7 columns):\n",
      "Ticket number    39837 non-null object\n",
      "Issue Date       39837 non-null object\n",
      "Issue time       39837 non-null object\n",
      "Make             39837 non-null object\n",
      "Color            39837 non-null object\n",
      "Latitude         39837 non-null object\n",
      "Longitude        39837 non-null object\n",
      "dtypes: object(7)\n",
      "memory usage: 2.4+ MB\n"
     ]
    }
   ],
   "source": [
    "df3 = Sample_data_large[Sample_data_large.Make.isin([\"BMW\",\"FORD\",\"VOLK\",\"DODG\"])]\n",
    "df3.info()"
   ]
  },
  {
   "cell_type": "code",
   "execution_count": 48,
   "metadata": {},
   "outputs": [
    {
     "data": {
      "text/plain": [
       "Make\n",
       "BMW      9678\n",
       "DODG     5885\n",
       "FORD    17511\n",
       "VOLK     6763\n",
       "Name: Make, dtype: int64"
      ]
     },
     "execution_count": 48,
     "metadata": {},
     "output_type": "execute_result"
    }
   ],
   "source": [
    "df3 = df3.groupby(\"Make\").Make.count()\n",
    "df3"
   ]
  },
  {
   "cell_type": "code",
   "execution_count": 49,
   "metadata": {},
   "outputs": [
    {
     "data": {
      "text/plain": [
       "Make\n",
       "BMW     1972\n",
       "DODG    1146\n",
       "FORD    3464\n",
       "VOLK    1323\n",
       "Name: Make, dtype: int64"
      ]
     },
     "execution_count": 49,
     "metadata": {},
     "output_type": "execute_result"
    }
   ],
   "source": [
    "Observed = df2\n",
    "Observed"
   ]
  },
  {
   "cell_type": "code",
   "execution_count": 50,
   "metadata": {},
   "outputs": [
    {
     "data": {
      "text/html": [
       "<div>\n",
       "<style scoped>\n",
       "    .dataframe tbody tr th:only-of-type {\n",
       "        vertical-align: middle;\n",
       "    }\n",
       "\n",
       "    .dataframe tbody tr th {\n",
       "        vertical-align: top;\n",
       "    }\n",
       "\n",
       "    .dataframe thead th {\n",
       "        text-align: right;\n",
       "    }\n",
       "</style>\n",
       "<table border=\"1\" class=\"dataframe\">\n",
       "  <thead>\n",
       "    <tr style=\"text-align: right;\">\n",
       "      <th></th>\n",
       "      <th>Make</th>\n",
       "    </tr>\n",
       "    <tr>\n",
       "      <th>Make</th>\n",
       "      <th></th>\n",
       "    </tr>\n",
       "  </thead>\n",
       "  <tbody>\n",
       "    <tr>\n",
       "      <th>BMW</th>\n",
       "      <td>1972</td>\n",
       "    </tr>\n",
       "    <tr>\n",
       "      <th>DODG</th>\n",
       "      <td>1146</td>\n",
       "    </tr>\n",
       "    <tr>\n",
       "      <th>FORD</th>\n",
       "      <td>3464</td>\n",
       "    </tr>\n",
       "    <tr>\n",
       "      <th>VOLK</th>\n",
       "      <td>1323</td>\n",
       "    </tr>\n",
       "  </tbody>\n",
       "</table>\n",
       "</div>"
      ],
      "text/plain": [
       "      Make\n",
       "Make      \n",
       "BMW   1972\n",
       "DODG  1146\n",
       "FORD  3464\n",
       "VOLK  1323"
      ]
     },
     "execution_count": 50,
     "metadata": {},
     "output_type": "execute_result"
    }
   ],
   "source": [
    "Observed = pd.DataFrame(Observed)\n",
    "Observed"
   ]
  },
  {
   "cell_type": "code",
   "execution_count": 51,
   "metadata": {},
   "outputs": [
    {
     "data": {
      "text/html": [
       "<div>\n",
       "<style scoped>\n",
       "    .dataframe tbody tr th:only-of-type {\n",
       "        vertical-align: middle;\n",
       "    }\n",
       "\n",
       "    .dataframe tbody tr th {\n",
       "        vertical-align: top;\n",
       "    }\n",
       "\n",
       "    .dataframe thead th {\n",
       "        text-align: right;\n",
       "    }\n",
       "</style>\n",
       "<table border=\"1\" class=\"dataframe\">\n",
       "  <thead>\n",
       "    <tr style=\"text-align: right;\">\n",
       "      <th></th>\n",
       "      <th>Observed</th>\n",
       "    </tr>\n",
       "    <tr>\n",
       "      <th>Make</th>\n",
       "      <th></th>\n",
       "    </tr>\n",
       "  </thead>\n",
       "  <tbody>\n",
       "    <tr>\n",
       "      <th>BMW</th>\n",
       "      <td>1972</td>\n",
       "    </tr>\n",
       "    <tr>\n",
       "      <th>DODG</th>\n",
       "      <td>1146</td>\n",
       "    </tr>\n",
       "    <tr>\n",
       "      <th>FORD</th>\n",
       "      <td>3464</td>\n",
       "    </tr>\n",
       "    <tr>\n",
       "      <th>VOLK</th>\n",
       "      <td>1323</td>\n",
       "    </tr>\n",
       "  </tbody>\n",
       "</table>\n",
       "</div>"
      ],
      "text/plain": [
       "      Observed\n",
       "Make          \n",
       "BMW       1972\n",
       "DODG      1146\n",
       "FORD      3464\n",
       "VOLK      1323"
      ]
     },
     "execution_count": 51,
     "metadata": {},
     "output_type": "execute_result"
    }
   ],
   "source": [
    "Observed.columns.values[0]=\"Observed\"\n",
    "Observed"
   ]
  },
  {
   "cell_type": "code",
   "execution_count": 52,
   "metadata": {},
   "outputs": [
    {
     "data": {
      "text/plain": [
       "Make\n",
       "BMW     2420.0\n",
       "DODG    1471.0\n",
       "FORD    4378.0\n",
       "VOLK    1691.0\n",
       "Name: Make, dtype: float64"
      ]
     },
     "execution_count": 52,
     "metadata": {},
     "output_type": "execute_result"
    }
   ],
   "source": [
    "overall_ratio = (df3/len(df3)).round(0)\n",
    "overall_ratio"
   ]
  },
  {
   "cell_type": "code",
   "execution_count": 53,
   "metadata": {},
   "outputs": [
    {
     "data": {
      "text/plain": [
       "Make\n",
       "BMW      9680.0\n",
       "DODG     5884.0\n",
       "FORD    17512.0\n",
       "VOLK     6764.0\n",
       "Name: Make, dtype: float64"
      ]
     },
     "execution_count": 53,
     "metadata": {},
     "output_type": "execute_result"
    }
   ],
   "source": [
    "Expected = overall_ratio * len(Observed)\n",
    "Expected"
   ]
  },
  {
   "cell_type": "code",
   "execution_count": 54,
   "metadata": {},
   "outputs": [],
   "source": [
    "Expected= pd.DataFrame(Expected)"
   ]
  },
  {
   "cell_type": "code",
   "execution_count": 55,
   "metadata": {},
   "outputs": [
    {
     "data": {
      "text/html": [
       "<div>\n",
       "<style scoped>\n",
       "    .dataframe tbody tr th:only-of-type {\n",
       "        vertical-align: middle;\n",
       "    }\n",
       "\n",
       "    .dataframe tbody tr th {\n",
       "        vertical-align: top;\n",
       "    }\n",
       "\n",
       "    .dataframe thead th {\n",
       "        text-align: right;\n",
       "    }\n",
       "</style>\n",
       "<table border=\"1\" class=\"dataframe\">\n",
       "  <thead>\n",
       "    <tr style=\"text-align: right;\">\n",
       "      <th></th>\n",
       "      <th>Expected</th>\n",
       "    </tr>\n",
       "    <tr>\n",
       "      <th>Make</th>\n",
       "      <th></th>\n",
       "    </tr>\n",
       "  </thead>\n",
       "  <tbody>\n",
       "    <tr>\n",
       "      <th>BMW</th>\n",
       "      <td>9680.0</td>\n",
       "    </tr>\n",
       "    <tr>\n",
       "      <th>DODG</th>\n",
       "      <td>5884.0</td>\n",
       "    </tr>\n",
       "    <tr>\n",
       "      <th>FORD</th>\n",
       "      <td>17512.0</td>\n",
       "    </tr>\n",
       "    <tr>\n",
       "      <th>VOLK</th>\n",
       "      <td>6764.0</td>\n",
       "    </tr>\n",
       "  </tbody>\n",
       "</table>\n",
       "</div>"
      ],
      "text/plain": [
       "      Expected\n",
       "Make          \n",
       "BMW     9680.0\n",
       "DODG    5884.0\n",
       "FORD   17512.0\n",
       "VOLK    6764.0"
      ]
     },
     "execution_count": 55,
     "metadata": {},
     "output_type": "execute_result"
    }
   ],
   "source": [
    "Expected.columns.values[0] = \"Expected\"\n",
    "Expected"
   ]
  },
  {
   "cell_type": "code",
   "execution_count": 56,
   "metadata": {},
   "outputs": [
    {
     "data": {
      "text/html": [
       "<div>\n",
       "<style scoped>\n",
       "    .dataframe tbody tr th:only-of-type {\n",
       "        vertical-align: middle;\n",
       "    }\n",
       "\n",
       "    .dataframe tbody tr th {\n",
       "        vertical-align: top;\n",
       "    }\n",
       "\n",
       "    .dataframe thead th {\n",
       "        text-align: right;\n",
       "    }\n",
       "</style>\n",
       "<table border=\"1\" class=\"dataframe\">\n",
       "  <thead>\n",
       "    <tr style=\"text-align: right;\">\n",
       "      <th></th>\n",
       "      <th>Observed</th>\n",
       "      <th>Expected</th>\n",
       "    </tr>\n",
       "    <tr>\n",
       "      <th>Make</th>\n",
       "      <th></th>\n",
       "      <th></th>\n",
       "    </tr>\n",
       "  </thead>\n",
       "  <tbody>\n",
       "    <tr>\n",
       "      <th>BMW</th>\n",
       "      <td>1972</td>\n",
       "      <td>9680.0</td>\n",
       "    </tr>\n",
       "    <tr>\n",
       "      <th>DODG</th>\n",
       "      <td>1146</td>\n",
       "      <td>5884.0</td>\n",
       "    </tr>\n",
       "    <tr>\n",
       "      <th>FORD</th>\n",
       "      <td>3464</td>\n",
       "      <td>17512.0</td>\n",
       "    </tr>\n",
       "    <tr>\n",
       "      <th>VOLK</th>\n",
       "      <td>1323</td>\n",
       "      <td>6764.0</td>\n",
       "    </tr>\n",
       "  </tbody>\n",
       "</table>\n",
       "</div>"
      ],
      "text/plain": [
       "      Observed  Expected\n",
       "Make                    \n",
       "BMW       1972    9680.0\n",
       "DODG      1146    5884.0\n",
       "FORD      3464   17512.0\n",
       "VOLK      1323    6764.0"
      ]
     },
     "execution_count": 56,
     "metadata": {},
     "output_type": "execute_result"
    }
   ],
   "source": [
    "Combined =  pd.concat([Observed, Expected], axis = 1)\n",
    "Combined"
   ]
  },
  {
   "cell_type": "code",
   "execution_count": 58,
   "metadata": {},
   "outputs": [
    {
     "data": {
      "text/plain": [
       "7.814727903251179"
      ]
     },
     "execution_count": 58,
     "metadata": {},
     "output_type": "execute_result"
    }
   ],
   "source": [
    "#With fur raws, the degree of freedom is 3\n",
    "# with a p-value of 0.05, the CL is 1-0.05 = 0.95\n",
    "Critcal_value = stats.chi2.ppf(q=0.95, df = 3)\n",
    "Critcal_value"
   ]
  },
  {
   "cell_type": "code",
   "execution_count": 59,
   "metadata": {},
   "outputs": [
    {
     "data": {
      "text/plain": [
       "Power_divergenceResult(statistic=25598.91059996524, pvalue=0.0)"
      ]
     },
     "execution_count": 59,
     "metadata": {},
     "output_type": "execute_result"
    }
   ],
   "source": [
    "stats.chisquare(Combined[\"Observed\"], Combined[\"Expected\"])"
   ]
  },
  {
   "cell_type": "code",
   "execution_count": null,
   "metadata": {},
   "outputs": [],
   "source": []
  }
 ],
 "metadata": {
  "jupytext": {
   "formats": "ipynb,py:light"
  },
  "kernelspec": {
   "display_name": "Python 3",
   "language": "python",
   "name": "python3"
  },
  "language_info": {
   "codemirror_mode": {
    "name": "ipython",
    "version": 3
   },
   "file_extension": ".py",
   "mimetype": "text/x-python",
   "name": "python",
   "nbconvert_exporter": "python",
   "pygments_lexer": "ipython3",
   "version": "3.7.1"
  },
  "toc": {
   "base_numbering": 1,
   "nav_menu": {},
   "number_sections": true,
   "sideBar": true,
   "skip_h1_title": false,
   "title_cell": "Table of Contents",
   "title_sidebar": "Contents",
   "toc_cell": false,
   "toc_position": {},
   "toc_section_display": true,
   "toc_window_display": false
  },
  "varInspector": {
   "cols": {
    "lenName": 16,
    "lenType": 16,
    "lenVar": 40
   },
   "kernels_config": {
    "python": {
     "delete_cmd_postfix": "",
     "delete_cmd_prefix": "del ",
     "library": "var_list.py",
     "varRefreshCmd": "print(var_dic_list())"
    },
    "r": {
     "delete_cmd_postfix": ") ",
     "delete_cmd_prefix": "rm(",
     "library": "var_list.r",
     "varRefreshCmd": "cat(var_dic_list()) "
    }
   },
   "types_to_exclude": [
    "module",
    "function",
    "builtin_function_or_method",
    "instance",
    "_Feature"
   ],
   "window_display": false
  }
 },
 "nbformat": 4,
 "nbformat_minor": 2
}
